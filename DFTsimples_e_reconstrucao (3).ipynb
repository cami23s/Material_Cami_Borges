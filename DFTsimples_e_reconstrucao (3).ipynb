{
  "metadata": {
    "language_info": {
      "codemirror_mode": {
        "name": "python",
        "version": 3
      },
      "file_extension": ".py",
      "mimetype": "text/x-python",
      "name": "python",
      "nbconvert_exporter": "python",
      "pygments_lexer": "ipython3",
      "version": "3.8"
    },
    "kernelspec": {
      "name": "python",
      "display_name": "Python (Pyodide)",
      "language": "python"
    }
  },
  "nbformat_minor": 4,
  "nbformat": 4,
  "cells": [
    {
      "cell_type": "code",
      "source": "#Autor: Cami Borge Sena\n#Data da criação: 10/07/23\n#Script para disciplina de Métodos I\n\nimport numpy as np\nimport matplotlib.pyplot as plt\n\n# Tamanho da matriz\nN = 30\n\n# Criar matriz preta\nf = np.zeros((30, 30))\n\n# Coordenadas do centro da região circular\ncenter_x, center_y = 14, 14\n\n# Raio da região circular\nradius = 5\n\n# Preencher a região circular com valores igual a 1\nfor i in range(N):\n    for j in range(N):\n        if np.sqrt((i - center_x)**2 + (j - center_y)**2) <= radius:\n            f[i, j] = 1\n\nplt.imshow(f, cmap='gray')\nplt.show()\n\n# Calcular a DFT\nF = np.fft.fft2(f)\nF2 = np.log(np.abs(F))\n\n# Exibir o espectro da DFT\nplt.imshow(F2, vmin=-14, vmax=24, cmap='jet')\nplt.colorbar()\nplt.show()\n\n# Reconstrução para frequências altas\nF_shifted = np.fft.fftshift(F)\nF_shifted[:N//2, :N//2] = 0\nF_shifted[N//2+1:, :N//2] = 0\nF_shifted[:N//2, N//2+1:] = 0\nF_shifted[N//2+1:, N//2+1:] = 0\n\n# Reconstruir a imagem\nf_reconstructed_high = np.fft.ifft2(np.fft.ifftshift(F_shifted)).real\n\n# Exibir a imagem reconstruída para frequências altas\nplt.imshow(f_reconstructed_high, cmap='gray')\nplt.title(\"Filtro passa-baixa\")\nplt.show()\n\n# Reconstrução para frequências baixas\nF_shifted_low = np.fft.fftshift(F)\nF_shifted_low[N//4:-(N//4), N//4:-(N//4)] = 0\n\n# Reconstruir a imagem\nf_reconstructed_low = np.fft.ifft2(np.fft.ifftshift(F_shifted_low)).real\n\n# Exibir a imagem reconstruída para frequências baixas\nplt.imshow(f_reconstructed_low, cmap='gray')\nplt.title(\"Filtro passa-alta\")\nplt.show()\n",
      "metadata": {
        "trusted": true
      },
      "execution_count": null,
      "outputs": []
    },
    {
      "cell_type": "code",
      "source": "",
      "metadata": {},
      "execution_count": null,
      "outputs": []
    }
  ]
}